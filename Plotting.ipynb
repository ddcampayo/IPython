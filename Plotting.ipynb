{
 "metadata": {
  "name": ""
 },
 "nbformat": 3,
 "nbformat_minor": 0,
 "worksheets": [
  {
   "cells": [
    {
     "cell_type": "code",
     "collapsed": false,
     "input": [
      "from pylab import *"
     ],
     "language": "python",
     "metadata": {},
     "outputs": [],
     "prompt_number": 1
    },
    {
     "cell_type": "code",
     "collapsed": false,
     "input": [
      "x=frange(0,2*pi,npts=100)\n",
      "figure()\n",
      "plot(x,sin(x),linewidth=10, color='black',label='zorder=10',zorder = 10)  # on top\n",
      "plot(x,cos(1.3*x),linewidth=10, color='red', label='zorder=1',zorder = 1) # bottom\n",
      "plot(x,sin(2.1*x),linewidth=10, color='green', label='zorder=3',zorder = 3)\n",
      "axhline(0,linewidth=10, color='blue', label='zorder=2',zorder = 2)\n",
      "l = legend()\n",
      "l.set_zorder(20) # put the legend on top\n",
      "\n",
      "show()"
     ],
     "language": "python",
     "metadata": {},
     "outputs": [],
     "prompt_number": 2
    },
    {
     "cell_type": "code",
     "collapsed": false,
     "input": [],
     "language": "python",
     "metadata": {},
     "outputs": []
    }
   ],
   "metadata": {}
  }
 ]
}